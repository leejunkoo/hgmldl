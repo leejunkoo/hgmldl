{
 "cells": [
  {
   "cell_type": "code",
   "execution_count": 1,
   "metadata": {},
   "outputs": [],
   "source": [
    "from tensorflow.keras.datasets import imdb\n",
    "(train_input, train_target), (test_input, test_target) = imdb.load_data(num_words=500)"
   ]
  },
  {
   "cell_type": "code",
   "execution_count": 2,
   "metadata": {},
   "outputs": [
    {
     "name": "stdout",
     "output_type": "stream",
     "text": [
      "(25000,) (25000,)\n"
     ]
    }
   ],
   "source": [
    "print(train_input.shape, test_input.shape)"
   ]
  },
  {
   "cell_type": "code",
   "execution_count": 3,
   "metadata": {},
   "outputs": [
    {
     "name": "stdout",
     "output_type": "stream",
     "text": [
      "218\n"
     ]
    }
   ],
   "source": [
    "print(len(train_input[0]))"
   ]
  },
  {
   "cell_type": "code",
   "execution_count": 4,
   "metadata": {},
   "outputs": [
    {
     "name": "stdout",
     "output_type": "stream",
     "text": [
      "189\n"
     ]
    }
   ],
   "source": [
    "print(len(train_input[1]))"
   ]
  },
  {
   "cell_type": "code",
   "execution_count": 5,
   "metadata": {},
   "outputs": [
    {
     "name": "stdout",
     "output_type": "stream",
     "text": [
      "[1, 14, 22, 16, 43, 2, 2, 2, 2, 65, 458, 2, 66, 2, 4, 173, 36, 256, 5, 25, 100, 43, 2, 112, 50, 2, 2, 9, 35, 480, 284, 5, 150, 4, 172, 112, 167, 2, 336, 385, 39, 4, 172, 2, 2, 17, 2, 38, 13, 447, 4, 192, 50, 16, 6, 147, 2, 19, 14, 22, 4, 2, 2, 469, 4, 22, 71, 87, 12, 16, 43, 2, 38, 76, 15, 13, 2, 4, 22, 17, 2, 17, 12, 16, 2, 18, 2, 5, 62, 386, 12, 8, 316, 8, 106, 5, 4, 2, 2, 16, 480, 66, 2, 33, 4, 130, 12, 16, 38, 2, 5, 25, 124, 51, 36, 135, 48, 25, 2, 33, 6, 22, 12, 215, 28, 77, 52, 5, 14, 407, 16, 82, 2, 8, 4, 107, 117, 2, 15, 256, 4, 2, 7, 2, 5, 2, 36, 71, 43, 2, 476, 26, 400, 317, 46, 7, 4, 2, 2, 13, 104, 88, 4, 381, 15, 297, 98, 32, 2, 56, 26, 141, 6, 194, 2, 18, 4, 226, 22, 21, 134, 476, 26, 480, 5, 144, 30, 2, 18, 51, 36, 28, 224, 92, 25, 104, 4, 226, 65, 16, 38, 2, 88, 12, 16, 283, 5, 16, 2, 113, 103, 32, 15, 16, 2, 19, 178, 32]\n"
     ]
    }
   ],
   "source": [
    "print(train_input[0])"
   ]
  },
  {
   "cell_type": "code",
   "execution_count": 6,
   "metadata": {},
   "outputs": [
    {
     "name": "stdout",
     "output_type": "stream",
     "text": [
      "[1 0 0 1 0 0 1 0 1 0 1 0 0 0 0 0 1 1 0 1]\n"
     ]
    }
   ],
   "source": [
    "print(train_target[:20])"
   ]
  },
  {
   "cell_type": "code",
   "execution_count": 7,
   "metadata": {},
   "outputs": [],
   "source": [
    "from sklearn.model_selection import train_test_split\n",
    "train_input, val_input, train_target, val_target = train_test_split(\n",
    "    train_input, train_target, test_size=0.2, random_state=42\n",
    ")"
   ]
  },
  {
   "cell_type": "code",
   "execution_count": 8,
   "metadata": {},
   "outputs": [],
   "source": [
    "import numpy as np\n",
    "lengths = np.array([len(x) for x in train_input])"
   ]
  },
  {
   "cell_type": "code",
   "execution_count": 9,
   "metadata": {},
   "outputs": [
    {
     "name": "stdout",
     "output_type": "stream",
     "text": [
      "239.00925 178.0\n"
     ]
    }
   ],
   "source": [
    "print(np.mean(lengths), np.median(lengths))"
   ]
  },
  {
   "cell_type": "code",
   "execution_count": 10,
   "metadata": {},
   "outputs": [
    {
     "data": {
      "image/png": "[encoded data removed]",
      "text/plain": [
       "<Figure size 432x288 with 1 Axes>"
      ]
     },
     "metadata": {
      "needs_background": "light"
     },
     "output_type": "display_data"
    }
   ],
   "source": [
    "import matplotlib.pyplot as plt\n",
    "plt.hist(lengths)\n",
    "plt.xlabel('length')\n",
    "plt.ylabel('frequency')\n",
    "plt.show()"
   ]
  },
  {
   "cell_type": "code",
   "execution_count": 11,
   "metadata": {},
   "outputs": [],
   "source": [
    "from tensorflow.keras.preprocessing.sequence import pad_sequences\n",
    "train_seq = pad_sequences(train_input, maxlen=100)"
   ]
  },
  {
   "cell_type": "code",
   "execution_count": 12,
   "metadata": {},
   "outputs": [
    {
     "name": "stdout",
     "output_type": "stream",
     "text": [
      "(20000, 100)\n"
     ]
    }
   ],
   "source": [
    "print(train_seq.shape)"
   ]
  },
  {
   "cell_type": "code",
   "execution_count": 13,
   "metadata": {},
   "outputs": [
    {
     "name": "stdout",
     "output_type": "stream",
     "text": [
      "[ 10   4  20   9   2 364 352   5  45   6   2   2  33 269   8   2 142   2\n",
      "   5   2  17  73  17 204   5   2  19  55   2   2  92  66 104  14  20  93\n",
      "  76   2 151  33   4  58  12 188   2 151  12 215  69 224 142  73 237   6\n",
      "   2   7   2   2 188   2 103  14  31  10  10 451   7   2   5   2  80  91\n",
      "   2  30   2  34  14  20 151  50  26 131  49   2  84  46  50  37  80  79\n",
      "   6   2  46   7  14  20  10  10 470 158]\n"
     ]
    }
   ],
   "source": [
    "print(train_seq[0])"
   ]
  },
  {
   "cell_type": "code",
   "execution_count": 14,
   "metadata": {},
   "outputs": [
    {
     "name": "stdout",
     "output_type": "stream",
     "text": [
      "[6, 2, 46, 7, 14, 20, 10, 10, 470, 158]\n"
     ]
    }
   ],
   "source": [
    "print(train_input[0][-10:])"
   ]
  },
  {
   "cell_type": "code",
   "execution_count": 15,
   "metadata": {},
   "outputs": [],
   "source": [
    "val_seq = pad_sequences(val_input, maxlen=100)"
   ]
  },
  {
   "cell_type": "code",
   "execution_count": 16,
   "metadata": {},
   "outputs": [
    {
     "name": "stdout",
     "output_type": "stream",
     "text": [
      "[  0   0   0   0   1   2 195  19  49   2   2 190   4   2 352   2 183  10\n",
      "  10  13  82  79   4   2  36  71 269   8   2  25  19  49   7   4   2   2\n",
      "   2   2   2  10  10  48  25  40   2  11   2   2  40   2   2   5   4   2\n",
      "   2  95  14 238  56 129   2  10  10  21   2  94 364 352   2   2  11 190\n",
      "  24 484   2   7  94 205 405  10  10  87   2  34  49   2   7   2   2   2\n",
      "   2   2 290   2  46  48  64  18   4   2]\n"
     ]
    }
   ],
   "source": [
    "print(train_seq[5])"
   ]
  },
  {
   "cell_type": "code",
   "execution_count": 17,
   "metadata": {},
   "outputs": [],
   "source": [
    "from tensorflow import keras\n",
    "model = keras.Sequential()\n",
    "model.add(keras.layers.SimpleRNN(8, input_shape=(100,500)))\n",
    "model.add(keras.layers.Dense(1, activation='sigmoid'))"
   ]
  },
  {
   "cell_type": "code",
   "execution_count": 18,
   "metadata": {},
   "outputs": [],
   "source": [
    "train_oh = keras.utils.to_categorical(train_seq)"
   ]
  },
  {
   "cell_type": "code",
   "execution_count": 19,
   "metadata": {},
   "outputs": [
    {
     "name": "stdout",
     "output_type": "stream",
     "text": [
      "(20000, 100, 500)\n"
     ]
    }
   ],
   "source": [
    "print(train_oh.shape)"
   ]
  },
  {
   "cell_type": "code",
   "execution_count": 20,
   "metadata": {},
   "outputs": [
    {
     "name": "stdout",
     "output_type": "stream",
     "text": [
      "[0. 0. 0. 0. 0. 0. 0. 0. 0. 0. 1. 0.]\n"
     ]
    }
   ],
   "source": [
    "print(train_oh[0][0][:12])"
   ]
  },
  {
   "cell_type": "code",
   "execution_count": 21,
   "metadata": {},
   "outputs": [
    {
     "name": "stdout",
     "output_type": "stream",
     "text": [
      "1.0\n"
     ]
    }
   ],
   "source": [
    "print(np.sum(train_oh[0][0]))"
   ]
  },
  {
   "cell_type": "code",
   "execution_count": 22,
   "metadata": {},
   "outputs": [],
   "source": [
    "val_oh = keras.utils.to_categorical(val_seq)"
   ]
  },
  {
   "cell_type": "code",
   "execution_count": 23,
   "metadata": {},
   "outputs": [
    {
     "name": "stdout",
     "output_type": "stream",
     "text": [
      "Model: \"sequential\"\n",
      "_________________________________________________________________\n",
      " Layer (type)                Output Shape              Param #   \n",
      "=================================================================\n",
      " simple_rnn (SimpleRNN)      (None, 8)                 4072      \n",
      "                                                                 \n",
      " dense (Dense)               (None, 1)                 9         \n",
      "                                                                 \n",
      "=================================================================\n",
      "Total params: 4,081\n",
      "Trainable params: 4,081\n",
      "Non-trainable params: 0\n",
      "_________________________________________________________________\n"
     ]
    }
   ],
   "source": [
    "model.summary()"
   ]
  },
  {
   "cell_type": "code",
   "execution_count": 24,
   "metadata": {},
   "outputs": [
    {
     "name": "stdout",
     "output_type": "stream",
     "text": [
      "Epoch 1/100\n"
     ]
    },
    {
     "name": "stderr",
     "output_type": "stream",
     "text": [
      "2022-11-06 09:50:58.066285: W tensorflow/core/platform/profile_utils/cpu_utils.cc:128] Failed to get CPU frequency: 0 Hz\n"
     ]
    },
    {
     "name": "stdout",
     "output_type": "stream",
     "text": [
      "313/313 [==============================] - 5s 16ms/step - loss: 0.7002 - accuracy: 0.5099 - val_loss: 0.6982 - val_accuracy: 0.5122\n",
      "Epoch 2/100\n",
      "313/313 [==============================] - 5s 16ms/step - loss: 0.6951 - accuracy: 0.5177 - val_loss: 0.6951 - val_accuracy: 0.5136\n",
      "Epoch 3/100\n",
      "313/313 [==============================] - 5s 15ms/step - loss: 0.6913 - accuracy: 0.5281 - val_loss: 0.6927 - val_accuracy: 0.5180\n",
      "Epoch 4/100\n",
      "313/313 [==============================] - 5s 15ms/step - loss: 0.6883 - accuracy: 0.5397 - val_loss: 0.6906 - val_accuracy: 0.5242\n",
      "Epoch 5/100\n",
      "313/313 [==============================] - 5s 16ms/step - loss: 0.6854 - accuracy: 0.5479 - val_loss: 0.6887 - val_accuracy: 0.5344\n",
      "Epoch 6/100\n",
      "313/313 [==============================] - 5s 16ms/step - loss: 0.6826 - accuracy: 0.5593 - val_loss: 0.6867 - val_accuracy: 0.5448\n",
      "Epoch 7/100\n",
      "313/313 [==============================] - 5s 16ms/step - loss: 0.6797 - accuracy: 0.5676 - val_loss: 0.6845 - val_accuracy: 0.5520\n",
      "Epoch 8/100\n",
      "313/313 [==============================] - 5s 16ms/step - loss: 0.6766 - accuracy: 0.5778 - val_loss: 0.6822 - val_accuracy: 0.5598\n",
      "Epoch 9/100\n",
      "313/313 [==============================] - 5s 16ms/step - loss: 0.6731 - accuracy: 0.5882 - val_loss: 0.6792 - val_accuracy: 0.5666\n",
      "Epoch 10/100\n",
      "313/313 [==============================] - 5s 16ms/step - loss: 0.6690 - accuracy: 0.5987 - val_loss: 0.6751 - val_accuracy: 0.5758\n",
      "Epoch 11/100\n",
      "313/313 [==============================] - 5s 16ms/step - loss: 0.6641 - accuracy: 0.6058 - val_loss: 0.6699 - val_accuracy: 0.5922\n",
      "Epoch 12/100\n",
      "313/313 [==============================] - 5s 16ms/step - loss: 0.6571 - accuracy: 0.6198 - val_loss: 0.6590 - val_accuracy: 0.6090\n",
      "Epoch 13/100\n",
      "313/313 [==============================] - 5s 16ms/step - loss: 0.6307 - accuracy: 0.6487 - val_loss: 0.5994 - val_accuracy: 0.6830\n",
      "Epoch 14/100\n",
      "313/313 [==============================] - 5s 16ms/step - loss: 0.5773 - accuracy: 0.6989 - val_loss: 0.5685 - val_accuracy: 0.7100\n",
      "Epoch 15/100\n",
      "313/313 [==============================] - 5s 16ms/step - loss: 0.5532 - accuracy: 0.7224 - val_loss: 0.5536 - val_accuracy: 0.7240\n",
      "Epoch 16/100\n",
      "313/313 [==============================] - 5s 16ms/step - loss: 0.5367 - accuracy: 0.7375 - val_loss: 0.5458 - val_accuracy: 0.7296\n",
      "Epoch 17/100\n",
      "313/313 [==============================] - 5s 16ms/step - loss: 0.5234 - accuracy: 0.7474 - val_loss: 0.5341 - val_accuracy: 0.7434\n",
      "Epoch 18/100\n",
      "313/313 [==============================] - 5s 16ms/step - loss: 0.5121 - accuracy: 0.7576 - val_loss: 0.5323 - val_accuracy: 0.7408\n",
      "Epoch 19/100\n",
      "313/313 [==============================] - 5s 16ms/step - loss: 0.5020 - accuracy: 0.7655 - val_loss: 0.5170 - val_accuracy: 0.7532\n",
      "Epoch 20/100\n",
      "313/313 [==============================] - 5s 16ms/step - loss: 0.4937 - accuracy: 0.7703 - val_loss: 0.5129 - val_accuracy: 0.7568\n",
      "Epoch 21/100\n",
      "313/313 [==============================] - 5s 16ms/step - loss: 0.4866 - accuracy: 0.7744 - val_loss: 0.5045 - val_accuracy: 0.7634\n",
      "Epoch 22/100\n",
      "313/313 [==============================] - 5s 16ms/step - loss: 0.4799 - accuracy: 0.7796 - val_loss: 0.4972 - val_accuracy: 0.7666\n",
      "Epoch 23/100\n",
      "313/313 [==============================] - 5s 16ms/step - loss: 0.4735 - accuracy: 0.7856 - val_loss: 0.4936 - val_accuracy: 0.7706\n",
      "Epoch 24/100\n",
      "313/313 [==============================] - 5s 16ms/step - loss: 0.4684 - accuracy: 0.7879 - val_loss: 0.4894 - val_accuracy: 0.7716\n",
      "Epoch 25/100\n",
      "313/313 [==============================] - 5s 16ms/step - loss: 0.4642 - accuracy: 0.7896 - val_loss: 0.4884 - val_accuracy: 0.7700\n",
      "Epoch 26/100\n",
      "313/313 [==============================] - 5s 16ms/step - loss: 0.4592 - accuracy: 0.7933 - val_loss: 0.4865 - val_accuracy: 0.7714\n",
      "Epoch 27/100\n",
      "313/313 [==============================] - 5s 16ms/step - loss: 0.4555 - accuracy: 0.7955 - val_loss: 0.4843 - val_accuracy: 0.7714\n",
      "Epoch 28/100\n",
      "313/313 [==============================] - 5s 16ms/step - loss: 0.4519 - accuracy: 0.7990 - val_loss: 0.4791 - val_accuracy: 0.7738\n",
      "Epoch 29/100\n",
      "313/313 [==============================] - 5s 16ms/step - loss: 0.4487 - accuracy: 0.8012 - val_loss: 0.4751 - val_accuracy: 0.7778\n",
      "Epoch 30/100\n",
      "313/313 [==============================] - 5s 16ms/step - loss: 0.4456 - accuracy: 0.8019 - val_loss: 0.4742 - val_accuracy: 0.7794\n",
      "Epoch 31/100\n",
      "313/313 [==============================] - 5s 16ms/step - loss: 0.4426 - accuracy: 0.8044 - val_loss: 0.4739 - val_accuracy: 0.7766\n",
      "Epoch 32/100\n",
      "313/313 [==============================] - 5s 16ms/step - loss: 0.4401 - accuracy: 0.8041 - val_loss: 0.4695 - val_accuracy: 0.7812\n",
      "Epoch 33/100\n",
      "313/313 [==============================] - 5s 16ms/step - loss: 0.4378 - accuracy: 0.8068 - val_loss: 0.4674 - val_accuracy: 0.7828\n",
      "Epoch 34/100\n",
      "313/313 [==============================] - 5s 16ms/step - loss: 0.4359 - accuracy: 0.8069 - val_loss: 0.4662 - val_accuracy: 0.7824\n",
      "Epoch 35/100\n",
      "313/313 [==============================] - 5s 16ms/step - loss: 0.4340 - accuracy: 0.8079 - val_loss: 0.4643 - val_accuracy: 0.7854\n",
      "Epoch 36/100\n",
      "313/313 [==============================] - 5s 16ms/step - loss: 0.4320 - accuracy: 0.8104 - val_loss: 0.4627 - val_accuracy: 0.7842\n",
      "Epoch 37/100\n",
      "313/313 [==============================] - 5s 16ms/step - loss: 0.4302 - accuracy: 0.8100 - val_loss: 0.4633 - val_accuracy: 0.7850\n",
      "Epoch 38/100\n",
      "313/313 [==============================] - 5s 16ms/step - loss: 0.4283 - accuracy: 0.8106 - val_loss: 0.4619 - val_accuracy: 0.7844\n",
      "Epoch 39/100\n",
      "313/313 [==============================] - 5s 16ms/step - loss: 0.4265 - accuracy: 0.8136 - val_loss: 0.4625 - val_accuracy: 0.7848\n",
      "Epoch 40/100\n",
      "313/313 [==============================] - 5s 16ms/step - loss: 0.4256 - accuracy: 0.8112 - val_loss: 0.4608 - val_accuracy: 0.7856\n",
      "Epoch 41/100\n",
      "313/313 [==============================] - 5s 16ms/step - loss: 0.4238 - accuracy: 0.8137 - val_loss: 0.4713 - val_accuracy: 0.7834\n",
      "Epoch 42/100\n",
      "313/313 [==============================] - 5s 16ms/step - loss: 0.4226 - accuracy: 0.8138 - val_loss: 0.4584 - val_accuracy: 0.7878\n",
      "Epoch 43/100\n",
      "313/313 [==============================] - 5s 16ms/step - loss: 0.4212 - accuracy: 0.8139 - val_loss: 0.4599 - val_accuracy: 0.7856\n",
      "Epoch 44/100\n",
      "313/313 [==============================] - 5s 16ms/step - loss: 0.4202 - accuracy: 0.8139 - val_loss: 0.4555 - val_accuracy: 0.7906\n",
      "Epoch 45/100\n",
      "313/313 [==============================] - 5s 16ms/step - loss: 0.4185 - accuracy: 0.8169 - val_loss: 0.4573 - val_accuracy: 0.7862\n",
      "Epoch 46/100\n",
      "313/313 [==============================] - 5s 16ms/step - loss: 0.4175 - accuracy: 0.8167 - val_loss: 0.4548 - val_accuracy: 0.7918\n",
      "Epoch 47/100\n",
      "313/313 [==============================] - 5s 16ms/step - loss: 0.4166 - accuracy: 0.8173 - val_loss: 0.4587 - val_accuracy: 0.7872\n",
      "Epoch 48/100\n",
      "313/313 [==============================] - 5s 16ms/step - loss: 0.4154 - accuracy: 0.8177 - val_loss: 0.4572 - val_accuracy: 0.7860\n",
      "Epoch 49/100\n",
      "313/313 [==============================] - 5s 16ms/step - loss: 0.4135 - accuracy: 0.8194 - val_loss: 0.4551 - val_accuracy: 0.7866\n"
     ]
    }
   ],
   "source": [
    "rmsprop = keras.optimizers.RMSprop(learning_rate=1e-4)\n",
    "model.compile(optimizer=rmsprop, loss='binary_crossentropy', metrics=['accuracy'])\n",
    "checkpoint_cb = keras.callbacks.ModelCheckpoint('best-simplernn-model.h5', save_best_only=True)\n",
    "early_stopping_cb = keras.callbacks.EarlyStopping(patience=3, restore_best_weights=True)\n",
    "history = model.fit(train_oh, train_target, epochs=100, batch_size=64, validation_data=(val_oh, val_target), callbacks=[checkpoint_cb, early_stopping_cb])"
   ]
  },
  {
   "cell_type": "code",
   "execution_count": 25,
   "metadata": {},
   "outputs": [
    {
     "data": {
      "image/png": "[encoded data removed]",
      "text/plain": [
       "<Figure size 432x288 with 1 Axes>"
      ]
     },
     "metadata": {
      "needs_background": "light"
     },
     "output_type": "display_data"
    }
   ],
   "source": [
    "plt.plot(history.history['loss'])\n",
    "plt.plot(history.history['val_loss'])\n",
    "plt.xlabel(\"epoch\")\n",
    "plt.ylabel('loss')\n",
    "plt.legend(['train', 'val'])\n",
    "plt.show()"
   ]
  },
  {
   "cell_type": "code",
   "execution_count": 26,
   "metadata": {},
   "outputs": [
    {
     "name": "stdout",
     "output_type": "stream",
     "text": [
      "8000000 4000000000\n"
     ]
    }
   ],
   "source": [
    "print(train_seq.nbytes, train_oh.nbytes)"
   ]
  },
  {
   "cell_type": "code",
   "execution_count": 27,
   "metadata": {},
   "outputs": [],
   "source": [
    "model2 = keras.Sequential()\n",
    "model2.add(keras.layers.Embedding(500, 16, input_length=100))\n",
    "model2.add(keras.layers.SimpleRNN(8))\n",
    "model2.add(keras.layers.Dense(1, activation='sigmoid'))"
   ]
  },
  {
   "cell_type": "code",
   "execution_count": 28,
   "metadata": {},
   "outputs": [
    {
     "name": "stdout",
     "output_type": "stream",
     "text": [
      "Model: \"sequential_1\"\n",
      "_________________________________________________________________\n",
      " Layer (type)                Output Shape              Param #   \n",
      "=================================================================\n",
      " embedding (Embedding)       (None, 100, 16)           8000      \n",
      "                                                                 \n",
      " simple_rnn_1 (SimpleRNN)    (None, 8)                 200       \n",
      "                                                                 \n",
      " dense_1 (Dense)             (None, 1)                 9         \n",
      "                                                                 \n",
      "=================================================================\n",
      "Total params: 8,209\n",
      "Trainable params: 8,209\n",
      "Non-trainable params: 0\n",
      "_________________________________________________________________\n"
     ]
    }
   ],
   "source": [
    "model2.summary()"
   ]
  },
  {
   "cell_type": "code",
   "execution_count": 29,
   "metadata": {},
   "outputs": [
    {
     "name": "stdout",
     "output_type": "stream",
     "text": [
      "Epoch 1/100\n",
      "313/313 [==============================] - 3s 7ms/step - loss: 0.6934 - accuracy: 0.5150 - val_loss: 0.6903 - val_accuracy: 0.5346\n",
      "Epoch 2/100\n",
      "313/313 [==============================] - 2s 6ms/step - loss: 0.6851 - accuracy: 0.5621 - val_loss: 0.6810 - val_accuracy: 0.5840\n",
      "Epoch 3/100\n",
      "313/313 [==============================] - 2s 6ms/step - loss: 0.6683 - accuracy: 0.6143 - val_loss: 0.6412 - val_accuracy: 0.6668\n",
      "Epoch 4/100\n",
      "313/313 [==============================] - 2s 6ms/step - loss: 0.6104 - accuracy: 0.7005 - val_loss: 0.5947 - val_accuracy: 0.7134\n",
      "Epoch 5/100\n",
      "313/313 [==============================] - 2s 6ms/step - loss: 0.5727 - accuracy: 0.7363 - val_loss: 0.5687 - val_accuracy: 0.7306\n",
      "Epoch 6/100\n",
      "313/313 [==============================] - 2s 6ms/step - loss: 0.5486 - accuracy: 0.7528 - val_loss: 0.5482 - val_accuracy: 0.7446\n",
      "Epoch 7/100\n",
      "313/313 [==============================] - 2s 6ms/step - loss: 0.5321 - accuracy: 0.7620 - val_loss: 0.5342 - val_accuracy: 0.7508\n",
      "Epoch 8/100\n",
      "313/313 [==============================] - 2s 6ms/step - loss: 0.5160 - accuracy: 0.7710 - val_loss: 0.5200 - val_accuracy: 0.7574\n",
      "Epoch 9/100\n",
      "313/313 [==============================] - 2s 6ms/step - loss: 0.5043 - accuracy: 0.7766 - val_loss: 0.5132 - val_accuracy: 0.7606\n",
      "Epoch 10/100\n",
      "313/313 [==============================] - 2s 6ms/step - loss: 0.4949 - accuracy: 0.7795 - val_loss: 0.5119 - val_accuracy: 0.7596\n",
      "Epoch 11/100\n",
      "313/313 [==============================] - 2s 6ms/step - loss: 0.4860 - accuracy: 0.7847 - val_loss: 0.5029 - val_accuracy: 0.7630\n",
      "Epoch 12/100\n",
      "313/313 [==============================] - 2s 6ms/step - loss: 0.4813 - accuracy: 0.7851 - val_loss: 0.5000 - val_accuracy: 0.7638\n",
      "Epoch 13/100\n",
      "313/313 [==============================] - 2s 6ms/step - loss: 0.4761 - accuracy: 0.7879 - val_loss: 0.4958 - val_accuracy: 0.7640\n",
      "Epoch 14/100\n",
      "313/313 [==============================] - 2s 6ms/step - loss: 0.4743 - accuracy: 0.7883 - val_loss: 0.4937 - val_accuracy: 0.7690\n",
      "Epoch 15/100\n",
      "313/313 [==============================] - 2s 6ms/step - loss: 0.4704 - accuracy: 0.7915 - val_loss: 0.4928 - val_accuracy: 0.7674\n",
      "Epoch 16/100\n",
      "313/313 [==============================] - 2s 6ms/step - loss: 0.4661 - accuracy: 0.7929 - val_loss: 0.4909 - val_accuracy: 0.7702\n",
      "Epoch 17/100\n",
      "313/313 [==============================] - 2s 6ms/step - loss: 0.4638 - accuracy: 0.7952 - val_loss: 0.4963 - val_accuracy: 0.7646\n",
      "Epoch 18/100\n",
      "313/313 [==============================] - 2s 6ms/step - loss: 0.4601 - accuracy: 0.7971 - val_loss: 0.4919 - val_accuracy: 0.7676\n",
      "Epoch 19/100\n",
      "313/313 [==============================] - 2s 6ms/step - loss: 0.4583 - accuracy: 0.7975 - val_loss: 0.4998 - val_accuracy: 0.7658\n"
     ]
    }
   ],
   "source": [
    "rmsprop = keras.optimizers.RMSprop(learning_rate=1e-4)\n",
    "model2.compile(optimizer=rmsprop, loss='binary_crossentropy', metrics=['accuracy'])\n",
    "checkpoint_cb = keras.callbacks.ModelCheckpoint('best-embedding-model.h5', save_best_only=True)\n",
    "early_stopping_cb = keras.callbacks.EarlyStopping(patience=3, restore_best_weights=True)\n",
    "history = model2.fit(train_seq, train_target, epochs=100, batch_size=64, validation_data=(val_seq, val_target), callbacks=[checkpoint_cb, early_stopping_cb])"
   ]
  },
  {
   "cell_type": "code",
   "execution_count": 30,
   "metadata": {},
   "outputs": [
    {
     "data": {
      "image/png": "[encoded data removed]",
      "text/plain": [
       "<Figure size 432x288 with 1 Axes>"
      ]
     },
     "metadata": {
      "needs_background": "light"
     },
     "output_type": "display_data"
    }
   ],
   "source": [
    "plt.plot(history.history['loss'])\n",
    "plt.plot(history.history['val_loss'])\n",
    "plt.xlabel('epoch')\n",
    "plt.ylabel('loss')\n",
    "plt.legend(['train', 'val'])\n",
    "plt.show()"
   ]
  }
 ],
 "metadata": {
  "kernelspec": {
   "display_name": "Python 3.9.12 ('base')",
   "language": "python",
   "name": "python3"
  },
  "language_info": {
   "codemirror_mode": {
    "name": "ipython",
    "version": 3
   },
   "file_extension": ".py",
   "mimetype": "text/x-python",
   "name": "python",
   "nbconvert_exporter": "python",
   "pygments_lexer": "ipython3",
   "version": "3.9.12"
  },
  "orig_nbformat": 4,
  "vscode": {
   "interpreter": {
    "hash": "63c39c0d62e7a5e01faa64ed599e5b105dca2aad0039ecb0a725019704cb4e0d"
   }
  }
 },
 "nbformat": 4,
 "nbformat_minor": 2
}
