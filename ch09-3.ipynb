{
 "cells": [
  {
   "cell_type": "code",
   "execution_count": 1,
   "metadata": {},
   "outputs": [],
   "source": [
    "from tensorflow.keras.datasets import imdb\n",
    "from sklearn.model_selection import train_test_split\n",
    "\n",
    "(train_input, train_target), (test_input, test_target) = imdb.load_data(num_words=500)\n",
    "train_input, val_input, train_target, val_target = train_test_split(train_input, train_target, test_size=0.2, random_state=42)"
   ]
  },
  {
   "cell_type": "code",
   "execution_count": 2,
   "metadata": {},
   "outputs": [],
   "source": [
    "from tensorflow.keras.preprocessing.sequence import pad_sequences\n",
    "train_seq = pad_sequences(train_input, maxlen=100)\n",
    "val_seq = pad_sequences(val_input, maxlen=100)"
   ]
  },
  {
   "cell_type": "code",
   "execution_count": 4,
   "metadata": {},
   "outputs": [],
   "source": [
    "from tensorflow import keras\n",
    "model = keras.Sequential()\n",
    "model.add(keras.layers.Embedding(500, 16, input_length=100))\n",
    "model.add(keras.layers.LSTM(8))\n",
    "model.add(keras.layers.Dense(1, activation='sigmoid'))"
   ]
  },
  {
   "cell_type": "code",
   "execution_count": 5,
   "metadata": {},
   "outputs": [
    {
     "name": "stdout",
     "output_type": "stream",
     "text": [
      "Model: \"sequential\"\n",
      "_________________________________________________________________\n",
      " Layer (type)                Output Shape              Param #   \n",
      "=================================================================\n",
      " embedding (Embedding)       (None, 100, 16)           8000      \n",
      "                                                                 \n",
      " lstm (LSTM)                 (None, 8)                 800       \n",
      "                                                                 \n",
      " dense (Dense)               (None, 1)                 9         \n",
      "                                                                 \n",
      "=================================================================\n",
      "Total params: 8,809\n",
      "Trainable params: 8,809\n",
      "Non-trainable params: 0\n",
      "_________________________________________________________________\n"
     ]
    }
   ],
   "source": [
    "model.summary()"
   ]
  },
  {
   "cell_type": "code",
   "execution_count": 6,
   "metadata": {},
   "outputs": [
    {
     "name": "stdout",
     "output_type": "stream",
     "text": [
      "Epoch 1/100\n"
     ]
    },
    {
     "name": "stderr",
     "output_type": "stream",
     "text": [
      "2022-11-09 20:49:23.776152: W tensorflow/core/platform/profile_utils/cpu_utils.cc:128] Failed to get CPU frequency: 0 Hz\n"
     ]
    },
    {
     "name": "stdout",
     "output_type": "stream",
     "text": [
      "313/313 [==============================] - 5s 13ms/step - loss: 0.6922 - accuracy: 0.5436 - val_loss: 0.6911 - val_accuracy: 0.5764\n",
      "Epoch 2/100\n",
      "313/313 [==============================] - 4s 12ms/step - loss: 0.6887 - accuracy: 0.6173 - val_loss: 0.6863 - val_accuracy: 0.6370\n",
      "Epoch 3/100\n",
      "313/313 [==============================] - 4s 12ms/step - loss: 0.6792 - accuracy: 0.6554 - val_loss: 0.6703 - val_accuracy: 0.6564\n",
      "Epoch 4/100\n",
      "313/313 [==============================] - 4s 12ms/step - loss: 0.6294 - accuracy: 0.6820 - val_loss: 0.5884 - val_accuracy: 0.7346\n",
      "Epoch 5/100\n",
      "313/313 [==============================] - 4s 12ms/step - loss: 0.5681 - accuracy: 0.7469 - val_loss: 0.5565 - val_accuracy: 0.7504\n",
      "Epoch 6/100\n",
      "313/313 [==============================] - 4s 12ms/step - loss: 0.5402 - accuracy: 0.7589 - val_loss: 0.5306 - val_accuracy: 0.7650\n",
      "Epoch 7/100\n",
      "313/313 [==============================] - 4s 12ms/step - loss: 0.5171 - accuracy: 0.7705 - val_loss: 0.5129 - val_accuracy: 0.7722\n",
      "Epoch 8/100\n",
      "313/313 [==============================] - 4s 12ms/step - loss: 0.4976 - accuracy: 0.7807 - val_loss: 0.4955 - val_accuracy: 0.7804\n",
      "Epoch 9/100\n",
      "313/313 [==============================] - 4s 12ms/step - loss: 0.4813 - accuracy: 0.7858 - val_loss: 0.4820 - val_accuracy: 0.7816\n",
      "Epoch 10/100\n",
      "313/313 [==============================] - 4s 12ms/step - loss: 0.4676 - accuracy: 0.7922 - val_loss: 0.4745 - val_accuracy: 0.7846\n",
      "Epoch 11/100\n",
      "313/313 [==============================] - 4s 13ms/step - loss: 0.4569 - accuracy: 0.7973 - val_loss: 0.4627 - val_accuracy: 0.7940\n",
      "Epoch 12/100\n",
      "313/313 [==============================] - 4s 12ms/step - loss: 0.4484 - accuracy: 0.8008 - val_loss: 0.4555 - val_accuracy: 0.7984\n",
      "Epoch 13/100\n",
      "313/313 [==============================] - 4s 12ms/step - loss: 0.4416 - accuracy: 0.8043 - val_loss: 0.4517 - val_accuracy: 0.7964\n",
      "Epoch 14/100\n",
      "313/313 [==============================] - 4s 12ms/step - loss: 0.4364 - accuracy: 0.8055 - val_loss: 0.4480 - val_accuracy: 0.7990\n",
      "Epoch 15/100\n",
      "313/313 [==============================] - 4s 12ms/step - loss: 0.4318 - accuracy: 0.8087 - val_loss: 0.4469 - val_accuracy: 0.7982\n",
      "Epoch 16/100\n",
      "313/313 [==============================] - 4s 12ms/step - loss: 0.4285 - accuracy: 0.8091 - val_loss: 0.4440 - val_accuracy: 0.7994\n",
      "Epoch 17/100\n",
      "313/313 [==============================] - 4s 12ms/step - loss: 0.4262 - accuracy: 0.8087 - val_loss: 0.4430 - val_accuracy: 0.7974\n",
      "Epoch 18/100\n",
      "313/313 [==============================] - 4s 12ms/step - loss: 0.4237 - accuracy: 0.8116 - val_loss: 0.4402 - val_accuracy: 0.8010\n",
      "Epoch 19/100\n",
      "313/313 [==============================] - 4s 12ms/step - loss: 0.4217 - accuracy: 0.8110 - val_loss: 0.4388 - val_accuracy: 0.8028\n",
      "Epoch 20/100\n",
      "313/313 [==============================] - 4s 12ms/step - loss: 0.4203 - accuracy: 0.8108 - val_loss: 0.4383 - val_accuracy: 0.8034\n",
      "Epoch 21/100\n",
      "313/313 [==============================] - 4s 12ms/step - loss: 0.4187 - accuracy: 0.8115 - val_loss: 0.4366 - val_accuracy: 0.7998\n",
      "Epoch 22/100\n",
      "313/313 [==============================] - 4s 12ms/step - loss: 0.4175 - accuracy: 0.8113 - val_loss: 0.4365 - val_accuracy: 0.8004\n",
      "Epoch 23/100\n",
      "313/313 [==============================] - 4s 12ms/step - loss: 0.4163 - accuracy: 0.8131 - val_loss: 0.4361 - val_accuracy: 0.7994\n",
      "Epoch 24/100\n",
      "313/313 [==============================] - 4s 12ms/step - loss: 0.4150 - accuracy: 0.8138 - val_loss: 0.4366 - val_accuracy: 0.8056\n",
      "Epoch 25/100\n",
      "313/313 [==============================] - 4s 12ms/step - loss: 0.4139 - accuracy: 0.8137 - val_loss: 0.4353 - val_accuracy: 0.8038\n",
      "Epoch 26/100\n",
      "313/313 [==============================] - 4s 12ms/step - loss: 0.4132 - accuracy: 0.8134 - val_loss: 0.4349 - val_accuracy: 0.8018\n",
      "Epoch 27/100\n",
      "313/313 [==============================] - 4s 12ms/step - loss: 0.4124 - accuracy: 0.8124 - val_loss: 0.4355 - val_accuracy: 0.8046\n",
      "Epoch 28/100\n",
      "313/313 [==============================] - 4s 12ms/step - loss: 0.4120 - accuracy: 0.8146 - val_loss: 0.4339 - val_accuracy: 0.7972\n",
      "Epoch 29/100\n",
      "313/313 [==============================] - 4s 12ms/step - loss: 0.4111 - accuracy: 0.8165 - val_loss: 0.4332 - val_accuracy: 0.7970\n",
      "Epoch 30/100\n",
      "313/313 [==============================] - 4s 12ms/step - loss: 0.4106 - accuracy: 0.8137 - val_loss: 0.4329 - val_accuracy: 0.7982\n",
      "Epoch 31/100\n",
      "313/313 [==============================] - 4s 13ms/step - loss: 0.4100 - accuracy: 0.8149 - val_loss: 0.4319 - val_accuracy: 0.7988\n",
      "Epoch 32/100\n",
      "313/313 [==============================] - 4s 13ms/step - loss: 0.4092 - accuracy: 0.8149 - val_loss: 0.4356 - val_accuracy: 0.8060\n",
      "Epoch 33/100\n",
      "313/313 [==============================] - 4s 13ms/step - loss: 0.4088 - accuracy: 0.8150 - val_loss: 0.4330 - val_accuracy: 0.7984\n",
      "Epoch 34/100\n",
      "313/313 [==============================] - 4s 13ms/step - loss: 0.4079 - accuracy: 0.8149 - val_loss: 0.4323 - val_accuracy: 0.8028\n"
     ]
    }
   ],
   "source": [
    "rmsprop = keras.optimizers.RMSprop(learning_rate=1e-4)\n",
    "model.compile(optimizer=rmsprop, loss='binary_crossentropy', metrics=['accuracy'])\n",
    "checkpoint_cb = keras.callbacks.ModelCheckpoint('best-lstm-model.h5', save_best_only=True)\n",
    "early_stopping_cb = keras.callbacks.EarlyStopping(patience=3, restore_best_weights=True)\n",
    "history = model.fit(train_seq, train_target, epochs=100, batch_size=64, validation_data=(val_seq, val_target), callbacks=[checkpoint_cb, early_stopping_cb])"
   ]
  },
  {
   "cell_type": "code",
   "execution_count": 7,
   "metadata": {},
   "outputs": [
    {
     "data": {
      "image/png": "[encoded data removed]",
      "text/plain": [
       "<Figure size 432x288 with 1 Axes>"
      ]
     },
     "metadata": {
      "needs_background": "light"
     },
     "output_type": "display_data"
    }
   ],
   "source": [
    "import matplotlib.pyplot as plt\n",
    "plt.plot(history.history['loss'])\n",
    "plt.plot(history.history['val_loss'])\n",
    "plt.xlabel('epoch')\n",
    "plt.ylabel('loss')\n",
    "plt.legend(['train', 'val'])\n",
    "plt.show()"
   ]
  },
  {
   "cell_type": "code",
   "execution_count": 8,
   "metadata": {},
   "outputs": [],
   "source": [
    "model2 = keras.Sequential()\n",
    "model2.add(keras.layers.Embedding(500, 16, input_length=100))\n",
    "model2.add(keras.layers.LSTM(8, dropout=0.3))\n",
    "model2.add(keras.layers.Dense(1, activation='sigmoid'))"
   ]
  },
  {
   "cell_type": "code",
   "execution_count": 9,
   "metadata": {},
   "outputs": [
    {
     "name": "stdout",
     "output_type": "stream",
     "text": [
      "Epoch 1/100\n",
      "313/313 [==============================] - 5s 13ms/step - loss: 0.6922 - accuracy: 0.5343 - val_loss: 0.6915 - val_accuracy: 0.5610\n",
      "Epoch 2/100\n",
      "313/313 [==============================] - 4s 13ms/step - loss: 0.6895 - accuracy: 0.5861 - val_loss: 0.6874 - val_accuracy: 0.5998\n",
      "Epoch 3/100\n",
      "313/313 [==============================] - 4s 12ms/step - loss: 0.6770 - accuracy: 0.6052 - val_loss: 0.6578 - val_accuracy: 0.6302\n",
      "Epoch 4/100\n",
      "313/313 [==============================] - 4s 13ms/step - loss: 0.6297 - accuracy: 0.6984 - val_loss: 0.6141 - val_accuracy: 0.7182\n",
      "Epoch 5/100\n",
      "313/313 [==============================] - 4s 12ms/step - loss: 0.6028 - accuracy: 0.7244 - val_loss: 0.5926 - val_accuracy: 0.7316\n",
      "Epoch 6/100\n",
      "313/313 [==============================] - 4s 13ms/step - loss: 0.5821 - accuracy: 0.7373 - val_loss: 0.5731 - val_accuracy: 0.7462\n",
      "Epoch 7/100\n",
      "313/313 [==============================] - 4s 13ms/step - loss: 0.5651 - accuracy: 0.7515 - val_loss: 0.5591 - val_accuracy: 0.7550\n",
      "Epoch 8/100\n",
      "313/313 [==============================] - 4s 12ms/step - loss: 0.5490 - accuracy: 0.7579 - val_loss: 0.5405 - val_accuracy: 0.7630\n",
      "Epoch 9/100\n",
      "313/313 [==============================] - 4s 12ms/step - loss: 0.5325 - accuracy: 0.7639 - val_loss: 0.5260 - val_accuracy: 0.7702\n",
      "Epoch 10/100\n",
      "313/313 [==============================] - 4s 13ms/step - loss: 0.5157 - accuracy: 0.7716 - val_loss: 0.5082 - val_accuracy: 0.7786\n",
      "Epoch 11/100\n",
      "313/313 [==============================] - 4s 13ms/step - loss: 0.5008 - accuracy: 0.7752 - val_loss: 0.4939 - val_accuracy: 0.7850\n",
      "Epoch 12/100\n",
      "313/313 [==============================] - 4s 13ms/step - loss: 0.4881 - accuracy: 0.7832 - val_loss: 0.4829 - val_accuracy: 0.7856\n",
      "Epoch 13/100\n",
      "313/313 [==============================] - 4s 13ms/step - loss: 0.4781 - accuracy: 0.7883 - val_loss: 0.4755 - val_accuracy: 0.7920\n",
      "Epoch 14/100\n",
      "313/313 [==============================] - 4s 13ms/step - loss: 0.4693 - accuracy: 0.7891 - val_loss: 0.4669 - val_accuracy: 0.7942\n",
      "Epoch 15/100\n",
      "313/313 [==============================] - 4s 13ms/step - loss: 0.4613 - accuracy: 0.7943 - val_loss: 0.4611 - val_accuracy: 0.7944\n",
      "Epoch 16/100\n",
      "313/313 [==============================] - 4s 13ms/step - loss: 0.4565 - accuracy: 0.7960 - val_loss: 0.4572 - val_accuracy: 0.7972\n",
      "Epoch 17/100\n",
      "313/313 [==============================] - 4s 13ms/step - loss: 0.4497 - accuracy: 0.7997 - val_loss: 0.4573 - val_accuracy: 0.7944\n",
      "Epoch 18/100\n",
      "313/313 [==============================] - 4s 13ms/step - loss: 0.4453 - accuracy: 0.7980 - val_loss: 0.4497 - val_accuracy: 0.7970\n",
      "Epoch 19/100\n",
      "313/313 [==============================] - 4s 13ms/step - loss: 0.4432 - accuracy: 0.8020 - val_loss: 0.4470 - val_accuracy: 0.7982\n",
      "Epoch 20/100\n",
      "313/313 [==============================] - 4s 13ms/step - loss: 0.4398 - accuracy: 0.8028 - val_loss: 0.4439 - val_accuracy: 0.7994\n",
      "Epoch 21/100\n",
      "313/313 [==============================] - 4s 13ms/step - loss: 0.4368 - accuracy: 0.8045 - val_loss: 0.4426 - val_accuracy: 0.7974\n",
      "Epoch 22/100\n",
      "313/313 [==============================] - 4s 13ms/step - loss: 0.4333 - accuracy: 0.8058 - val_loss: 0.4402 - val_accuracy: 0.7998\n",
      "Epoch 23/100\n",
      "313/313 [==============================] - 4s 13ms/step - loss: 0.4307 - accuracy: 0.8063 - val_loss: 0.4390 - val_accuracy: 0.7990\n",
      "Epoch 24/100\n",
      "313/313 [==============================] - 4s 13ms/step - loss: 0.4291 - accuracy: 0.8043 - val_loss: 0.4384 - val_accuracy: 0.8010\n",
      "Epoch 25/100\n",
      "313/313 [==============================] - 4s 13ms/step - loss: 0.4275 - accuracy: 0.8060 - val_loss: 0.4373 - val_accuracy: 0.7960\n",
      "Epoch 26/100\n",
      "313/313 [==============================] - 4s 13ms/step - loss: 0.4255 - accuracy: 0.8056 - val_loss: 0.4348 - val_accuracy: 0.8002\n",
      "Epoch 27/100\n",
      "313/313 [==============================] - 4s 13ms/step - loss: 0.4264 - accuracy: 0.8073 - val_loss: 0.4361 - val_accuracy: 0.8010\n",
      "Epoch 28/100\n",
      "313/313 [==============================] - 4s 13ms/step - loss: 0.4241 - accuracy: 0.8057 - val_loss: 0.4349 - val_accuracy: 0.7940\n",
      "Epoch 29/100\n",
      "313/313 [==============================] - 4s 13ms/step - loss: 0.4223 - accuracy: 0.8041 - val_loss: 0.4367 - val_accuracy: 0.8050\n"
     ]
    }
   ],
   "source": [
    "rmsprop = keras.optimizers.RMSprop(learning_rate=1e-4)\n",
    "model2.compile(optimizer=rmsprop, loss='binary_crossentropy', metrics=['accuracy'])\n",
    "checkpoint_cb = keras.callbacks.ModelCheckpoint('best-dropout-model.h5', save_best_only=True)\n",
    "early_stopping_cb = keras.callbacks.EarlyStopping(patience=3, restore_best_weights=True)\n",
    "history = model2.fit(train_seq, train_target, epochs=100, batch_size=64, validation_data=(val_seq, val_target), callbacks=[checkpoint_cb, early_stopping_cb])\n"
   ]
  },
  {
   "cell_type": "code",
   "execution_count": 10,
   "metadata": {},
   "outputs": [
    {
     "data": {
      "image/png": "[encoded data removed]",
      "text/plain": [
       "<Figure size 432x288 with 1 Axes>"
      ]
     },
     "metadata": {
      "needs_background": "light"
     },
     "output_type": "display_data"
    }
   ],
   "source": [
    "plt.plot(history.history['loss'])\n",
    "plt.plot(history.history['val_loss'])\n",
    "plt.xlabel('epoch')\n",
    "plt.ylabel('loss')\n",
    "plt.legend(['train', 'val'])\n",
    "plt.show()"
   ]
  },
  {
   "cell_type": "code",
   "execution_count": 11,
   "metadata": {},
   "outputs": [],
   "source": [
    "model3 = keras.Sequential()\n",
    "model3.add(keras.layers.Embedding(500, 16, input_length=100))\n",
    "model3.add(keras.layers.LSTM(8, dropout=0.3, return_sequences=True))\n",
    "model3.add(keras.layers.LSTM(8, dropout=0.3))\n",
    "model3.add(keras.layers.Dense(1, activation='sigmoid'))"
   ]
  },
  {
   "cell_type": "code",
   "execution_count": 12,
   "metadata": {},
   "outputs": [
    {
     "name": "stdout",
     "output_type": "stream",
     "text": [
      "Model: \"sequential_2\"\n",
      "_________________________________________________________________\n",
      " Layer (type)                Output Shape              Param #   \n",
      "=================================================================\n",
      " embedding_2 (Embedding)     (None, 100, 16)           8000      \n",
      "                                                                 \n",
      " lstm_2 (LSTM)               (None, 100, 8)            800       \n",
      "                                                                 \n",
      " lstm_3 (LSTM)               (None, 8)                 544       \n",
      "                                                                 \n",
      " dense_2 (Dense)             (None, 1)                 9         \n",
      "                                                                 \n",
      "=================================================================\n",
      "Total params: 9,353\n",
      "Trainable params: 9,353\n",
      "Non-trainable params: 0\n",
      "_________________________________________________________________\n"
     ]
    }
   ],
   "source": [
    "model3.summary()"
   ]
  },
  {
   "cell_type": "code",
   "execution_count": 13,
   "metadata": {},
   "outputs": [
    {
     "name": "stdout",
     "output_type": "stream",
     "text": [
      "Epoch 1/100\n",
      "313/313 [==============================] - 10s 26ms/step - loss: 0.6928 - accuracy: 0.5231 - val_loss: 0.6923 - val_accuracy: 0.5828\n",
      "Epoch 2/100\n",
      "313/313 [==============================] - 8s 25ms/step - loss: 0.6908 - accuracy: 0.5942 - val_loss: 0.6884 - val_accuracy: 0.6412\n",
      "Epoch 3/100\n",
      "313/313 [==============================] - 8s 25ms/step - loss: 0.6797 - accuracy: 0.6343 - val_loss: 0.6641 - val_accuracy: 0.6350\n",
      "Epoch 4/100\n",
      "313/313 [==============================] - 8s 25ms/step - loss: 0.6196 - accuracy: 0.6824 - val_loss: 0.5842 - val_accuracy: 0.7138\n",
      "Epoch 5/100\n",
      "313/313 [==============================] - 8s 25ms/step - loss: 0.5613 - accuracy: 0.7307 - val_loss: 0.5386 - val_accuracy: 0.7406\n",
      "Epoch 6/100\n",
      "313/313 [==============================] - 8s 25ms/step - loss: 0.5272 - accuracy: 0.7508 - val_loss: 0.5126 - val_accuracy: 0.7524\n",
      "Epoch 7/100\n",
      "313/313 [==============================] - 8s 25ms/step - loss: 0.5066 - accuracy: 0.7618 - val_loss: 0.4938 - val_accuracy: 0.7628\n",
      "Epoch 8/100\n",
      "313/313 [==============================] - 8s 25ms/step - loss: 0.4892 - accuracy: 0.7739 - val_loss: 0.4840 - val_accuracy: 0.7728\n",
      "Epoch 9/100\n",
      "313/313 [==============================] - 8s 25ms/step - loss: 0.4810 - accuracy: 0.7786 - val_loss: 0.4728 - val_accuracy: 0.7786\n",
      "Epoch 10/100\n",
      "313/313 [==============================] - 8s 25ms/step - loss: 0.4745 - accuracy: 0.7793 - val_loss: 0.4673 - val_accuracy: 0.7838\n",
      "Epoch 11/100\n",
      "313/313 [==============================] - 8s 25ms/step - loss: 0.4666 - accuracy: 0.7844 - val_loss: 0.4633 - val_accuracy: 0.7850\n",
      "Epoch 12/100\n",
      "313/313 [==============================] - 8s 25ms/step - loss: 0.4612 - accuracy: 0.7864 - val_loss: 0.4614 - val_accuracy: 0.7840\n",
      "Epoch 13/100\n",
      "313/313 [==============================] - 8s 25ms/step - loss: 0.4551 - accuracy: 0.7894 - val_loss: 0.4549 - val_accuracy: 0.7902\n",
      "Epoch 14/100\n",
      "313/313 [==============================] - 8s 25ms/step - loss: 0.4545 - accuracy: 0.7900 - val_loss: 0.4541 - val_accuracy: 0.7880\n",
      "Epoch 15/100\n",
      "313/313 [==============================] - 8s 25ms/step - loss: 0.4486 - accuracy: 0.7951 - val_loss: 0.4502 - val_accuracy: 0.7908\n",
      "Epoch 16/100\n",
      "313/313 [==============================] - 8s 25ms/step - loss: 0.4469 - accuracy: 0.7959 - val_loss: 0.4483 - val_accuracy: 0.7936\n",
      "Epoch 17/100\n",
      "313/313 [==============================] - 8s 25ms/step - loss: 0.4435 - accuracy: 0.7956 - val_loss: 0.4483 - val_accuracy: 0.7890\n",
      "Epoch 18/100\n",
      "313/313 [==============================] - 8s 25ms/step - loss: 0.4426 - accuracy: 0.7980 - val_loss: 0.4468 - val_accuracy: 0.7930\n",
      "Epoch 19/100\n",
      "313/313 [==============================] - 8s 25ms/step - loss: 0.4408 - accuracy: 0.7958 - val_loss: 0.4453 - val_accuracy: 0.7948\n",
      "Epoch 20/100\n",
      "313/313 [==============================] - 8s 25ms/step - loss: 0.4386 - accuracy: 0.7976 - val_loss: 0.4459 - val_accuracy: 0.7940\n",
      "Epoch 21/100\n",
      "313/313 [==============================] - 8s 25ms/step - loss: 0.4385 - accuracy: 0.7980 - val_loss: 0.4439 - val_accuracy: 0.7968\n",
      "Epoch 22/100\n",
      "313/313 [==============================] - 8s 25ms/step - loss: 0.4373 - accuracy: 0.7975 - val_loss: 0.4442 - val_accuracy: 0.7882\n",
      "Epoch 23/100\n",
      "313/313 [==============================] - 8s 25ms/step - loss: 0.4349 - accuracy: 0.7997 - val_loss: 0.4422 - val_accuracy: 0.7964\n",
      "Epoch 24/100\n",
      "313/313 [==============================] - 8s 25ms/step - loss: 0.4333 - accuracy: 0.8000 - val_loss: 0.4416 - val_accuracy: 0.7946\n",
      "Epoch 25/100\n",
      "313/313 [==============================] - 8s 25ms/step - loss: 0.4320 - accuracy: 0.8013 - val_loss: 0.4403 - val_accuracy: 0.7968\n",
      "Epoch 26/100\n",
      "313/313 [==============================] - 8s 25ms/step - loss: 0.4321 - accuracy: 0.8020 - val_loss: 0.4402 - val_accuracy: 0.7924\n",
      "Epoch 27/100\n",
      "313/313 [==============================] - 8s 25ms/step - loss: 0.4300 - accuracy: 0.8032 - val_loss: 0.4404 - val_accuracy: 0.7880\n",
      "Epoch 28/100\n",
      "313/313 [==============================] - 8s 25ms/step - loss: 0.4294 - accuracy: 0.8008 - val_loss: 0.4409 - val_accuracy: 0.7900\n",
      "Epoch 29/100\n",
      "313/313 [==============================] - 8s 25ms/step - loss: 0.4297 - accuracy: 0.8020 - val_loss: 0.4389 - val_accuracy: 0.7924\n",
      "Epoch 30/100\n",
      "313/313 [==============================] - 8s 25ms/step - loss: 0.4290 - accuracy: 0.8037 - val_loss: 0.4377 - val_accuracy: 0.7988\n",
      "Epoch 31/100\n",
      "313/313 [==============================] - 8s 25ms/step - loss: 0.4283 - accuracy: 0.8010 - val_loss: 0.4382 - val_accuracy: 0.7978\n",
      "Epoch 32/100\n",
      "313/313 [==============================] - 8s 25ms/step - loss: 0.4265 - accuracy: 0.8052 - val_loss: 0.4416 - val_accuracy: 0.7982\n",
      "Epoch 33/100\n",
      "313/313 [==============================] - 8s 25ms/step - loss: 0.4256 - accuracy: 0.8054 - val_loss: 0.4383 - val_accuracy: 0.7992\n"
     ]
    }
   ],
   "source": [
    "rmsprop = keras.optimizers.RMSprop(learning_rate=1e-4)\n",
    "model3.compile(optimizer=rmsprop, loss='binary_crossentropy', metrics=['accuracy'])\n",
    "checkpoint_cb = keras.callbacks.ModelCheckpoint('best-2rnn-model.h5', save_best_only=True)\n",
    "early_stopping_cb = keras.callbacks.EarlyStopping(patience=3, restore_best_weights=True)\n",
    "history = model3.fit(train_seq, train_target, epochs=100, batch_size=64, validation_data=(val_seq, val_target), callbacks=[checkpoint_cb, early_stopping_cb])"
   ]
  },
  {
   "cell_type": "code",
   "execution_count": 14,
   "metadata": {},
   "outputs": [
    {
     "data": {
      "image/png": "[encoded data removed]",
      "text/plain": [
       "<Figure size 432x288 with 1 Axes>"
      ]
     },
     "metadata": {
      "needs_background": "light"
     },
     "output_type": "display_data"
    }
   ],
   "source": [
    "plt.plot(history.history['loss'])\n",
    "plt.plot(history.history['val_loss'])\n",
    "plt.xlabel('epoch')\n",
    "plt.ylabel('loss')\n",
    "plt.legend(['train', 'val'])\n",
    "plt.show()"
   ]
  },
  {
   "cell_type": "code",
   "execution_count": 15,
   "metadata": {},
   "outputs": [],
   "source": [
    "model4 = keras.Sequential()\n",
    "model4.add(keras.layers.Embedding(500, 16, input_length=100))\n",
    "model4.add(keras.layers.GRU(8))\n",
    "model4.add(keras.layers.Dense(1, activation='sigmoid'))"
   ]
  },
  {
   "cell_type": "code",
   "execution_count": 16,
   "metadata": {},
   "outputs": [
    {
     "name": "stdout",
     "output_type": "stream",
     "text": [
      "Model: \"sequential_3\"\n",
      "_________________________________________________________________\n",
      " Layer (type)                Output Shape              Param #   \n",
      "=================================================================\n",
      " embedding_3 (Embedding)     (None, 100, 16)           8000      \n",
      "                                                                 \n",
      " gru (GRU)                   (None, 8)                 624       \n",
      "                                                                 \n",
      " dense_3 (Dense)             (None, 1)                 9         \n",
      "                                                                 \n",
      "=================================================================\n",
      "Total params: 8,633\n",
      "Trainable params: 8,633\n",
      "Non-trainable params: 0\n",
      "_________________________________________________________________\n"
     ]
    }
   ],
   "source": [
    "model4.summary()"
   ]
  },
  {
   "cell_type": "code",
   "execution_count": 17,
   "metadata": {},
   "outputs": [
    {
     "name": "stdout",
     "output_type": "stream",
     "text": [
      "Epoch 1/100\n",
      "313/313 [==============================] - 6s 15ms/step - loss: 0.6916 - accuracy: 0.5349 - val_loss: 0.6905 - val_accuracy: 0.5536\n",
      "Epoch 2/100\n",
      "313/313 [==============================] - 5s 15ms/step - loss: 0.6892 - accuracy: 0.5661 - val_loss: 0.6879 - val_accuracy: 0.5798\n",
      "Epoch 3/100\n",
      "313/313 [==============================] - 4s 14ms/step - loss: 0.6854 - accuracy: 0.5853 - val_loss: 0.6838 - val_accuracy: 0.5906\n",
      "Epoch 4/100\n",
      "313/313 [==============================] - 5s 15ms/step - loss: 0.6796 - accuracy: 0.6033 - val_loss: 0.6770 - val_accuracy: 0.6032\n",
      "Epoch 5/100\n",
      "313/313 [==============================] - 5s 15ms/step - loss: 0.6706 - accuracy: 0.6188 - val_loss: 0.6671 - val_accuracy: 0.6176\n",
      "Epoch 6/100\n",
      "313/313 [==============================] - 5s 15ms/step - loss: 0.6567 - accuracy: 0.6383 - val_loss: 0.6512 - val_accuracy: 0.6334\n",
      "Epoch 7/100\n",
      "313/313 [==============================] - 5s 15ms/step - loss: 0.6351 - accuracy: 0.6599 - val_loss: 0.6256 - val_accuracy: 0.6594\n",
      "Epoch 8/100\n",
      "313/313 [==============================] - 5s 15ms/step - loss: 0.5963 - accuracy: 0.6877 - val_loss: 0.5764 - val_accuracy: 0.7030\n",
      "Epoch 9/100\n",
      "313/313 [==============================] - 5s 15ms/step - loss: 0.5398 - accuracy: 0.7302 - val_loss: 0.5350 - val_accuracy: 0.7374\n",
      "Epoch 10/100\n",
      "313/313 [==============================] - 5s 15ms/step - loss: 0.5134 - accuracy: 0.7516 - val_loss: 0.5179 - val_accuracy: 0.7508\n",
      "Epoch 11/100\n",
      "313/313 [==============================] - 5s 15ms/step - loss: 0.4982 - accuracy: 0.7595 - val_loss: 0.5059 - val_accuracy: 0.7602\n",
      "Epoch 12/100\n",
      "313/313 [==============================] - 4s 14ms/step - loss: 0.4863 - accuracy: 0.7684 - val_loss: 0.4959 - val_accuracy: 0.7650\n",
      "Epoch 13/100\n",
      "313/313 [==============================] - 4s 14ms/step - loss: 0.4766 - accuracy: 0.7743 - val_loss: 0.4871 - val_accuracy: 0.7690\n",
      "Epoch 14/100\n",
      "313/313 [==============================] - 4s 14ms/step - loss: 0.4679 - accuracy: 0.7807 - val_loss: 0.4788 - val_accuracy: 0.7736\n",
      "Epoch 15/100\n",
      "313/313 [==============================] - 4s 14ms/step - loss: 0.4608 - accuracy: 0.7836 - val_loss: 0.4743 - val_accuracy: 0.7762\n",
      "Epoch 16/100\n",
      "313/313 [==============================] - 4s 14ms/step - loss: 0.4549 - accuracy: 0.7886 - val_loss: 0.4705 - val_accuracy: 0.7832\n",
      "Epoch 17/100\n",
      "313/313 [==============================] - 4s 14ms/step - loss: 0.4494 - accuracy: 0.7930 - val_loss: 0.4639 - val_accuracy: 0.7822\n",
      "Epoch 18/100\n",
      "313/313 [==============================] - 4s 14ms/step - loss: 0.4447 - accuracy: 0.7965 - val_loss: 0.4597 - val_accuracy: 0.7836\n",
      "Epoch 19/100\n",
      "313/313 [==============================] - 4s 14ms/step - loss: 0.4409 - accuracy: 0.7979 - val_loss: 0.4570 - val_accuracy: 0.7864\n",
      "Epoch 20/100\n",
      "313/313 [==============================] - 4s 14ms/step - loss: 0.4376 - accuracy: 0.7997 - val_loss: 0.4543 - val_accuracy: 0.7880\n",
      "Epoch 21/100\n",
      "313/313 [==============================] - 4s 14ms/step - loss: 0.4345 - accuracy: 0.8020 - val_loss: 0.4522 - val_accuracy: 0.7884\n",
      "Epoch 22/100\n",
      "313/313 [==============================] - 4s 14ms/step - loss: 0.4317 - accuracy: 0.8043 - val_loss: 0.4513 - val_accuracy: 0.7880\n",
      "Epoch 23/100\n",
      "313/313 [==============================] - 4s 14ms/step - loss: 0.4298 - accuracy: 0.8060 - val_loss: 0.4492 - val_accuracy: 0.7902\n",
      "Epoch 24/100\n",
      "313/313 [==============================] - 4s 14ms/step - loss: 0.4273 - accuracy: 0.8073 - val_loss: 0.4513 - val_accuracy: 0.7860\n",
      "Epoch 25/100\n",
      "313/313 [==============================] - 4s 14ms/step - loss: 0.4262 - accuracy: 0.8073 - val_loss: 0.4503 - val_accuracy: 0.7938\n",
      "Epoch 26/100\n",
      "313/313 [==============================] - 4s 14ms/step - loss: 0.4243 - accuracy: 0.8084 - val_loss: 0.4470 - val_accuracy: 0.7918\n",
      "Epoch 27/100\n",
      "313/313 [==============================] - 4s 14ms/step - loss: 0.4229 - accuracy: 0.8099 - val_loss: 0.4463 - val_accuracy: 0.7930\n",
      "Epoch 28/100\n",
      "313/313 [==============================] - 4s 14ms/step - loss: 0.4218 - accuracy: 0.8103 - val_loss: 0.4455 - val_accuracy: 0.7914\n",
      "Epoch 29/100\n",
      "313/313 [==============================] - 4s 14ms/step - loss: 0.4206 - accuracy: 0.8105 - val_loss: 0.4458 - val_accuracy: 0.7924\n",
      "Epoch 30/100\n",
      "313/313 [==============================] - 4s 14ms/step - loss: 0.4199 - accuracy: 0.8127 - val_loss: 0.4448 - val_accuracy: 0.7928\n",
      "Epoch 31/100\n",
      "313/313 [==============================] - 4s 14ms/step - loss: 0.4191 - accuracy: 0.8134 - val_loss: 0.4447 - val_accuracy: 0.7924\n",
      "Epoch 32/100\n",
      "313/313 [==============================] - 4s 14ms/step - loss: 0.4184 - accuracy: 0.8135 - val_loss: 0.4426 - val_accuracy: 0.7966\n",
      "Epoch 33/100\n",
      "313/313 [==============================] - 4s 14ms/step - loss: 0.4174 - accuracy: 0.8138 - val_loss: 0.4435 - val_accuracy: 0.7962\n",
      "Epoch 34/100\n",
      "313/313 [==============================] - 4s 14ms/step - loss: 0.4169 - accuracy: 0.8138 - val_loss: 0.4468 - val_accuracy: 0.7950\n",
      "Epoch 35/100\n",
      "313/313 [==============================] - 4s 14ms/step - loss: 0.4162 - accuracy: 0.8156 - val_loss: 0.4419 - val_accuracy: 0.7926\n",
      "Epoch 36/100\n",
      "313/313 [==============================] - 4s 14ms/step - loss: 0.4154 - accuracy: 0.8137 - val_loss: 0.4417 - val_accuracy: 0.7946\n",
      "Epoch 37/100\n",
      "313/313 [==============================] - 4s 14ms/step - loss: 0.4152 - accuracy: 0.8149 - val_loss: 0.4413 - val_accuracy: 0.7946\n",
      "Epoch 38/100\n",
      "313/313 [==============================] - 4s 14ms/step - loss: 0.4148 - accuracy: 0.8142 - val_loss: 0.4406 - val_accuracy: 0.7966\n",
      "Epoch 39/100\n",
      "313/313 [==============================] - 4s 14ms/step - loss: 0.4146 - accuracy: 0.8150 - val_loss: 0.4411 - val_accuracy: 0.7972\n",
      "Epoch 40/100\n",
      "313/313 [==============================] - 4s 14ms/step - loss: 0.4139 - accuracy: 0.8161 - val_loss: 0.4405 - val_accuracy: 0.7960\n",
      "Epoch 41/100\n",
      "313/313 [==============================] - 4s 14ms/step - loss: 0.4135 - accuracy: 0.8150 - val_loss: 0.4413 - val_accuracy: 0.7958\n",
      "Epoch 42/100\n",
      "313/313 [==============================] - 4s 14ms/step - loss: 0.4134 - accuracy: 0.8162 - val_loss: 0.4417 - val_accuracy: 0.7930\n",
      "Epoch 43/100\n",
      "313/313 [==============================] - 4s 14ms/step - loss: 0.4129 - accuracy: 0.8150 - val_loss: 0.4405 - val_accuracy: 0.7946\n",
      "Epoch 44/100\n",
      "313/313 [==============================] - 4s 14ms/step - loss: 0.4128 - accuracy: 0.8157 - val_loss: 0.4394 - val_accuracy: 0.7954\n",
      "Epoch 45/100\n",
      "313/313 [==============================] - 5s 15ms/step - loss: 0.4122 - accuracy: 0.8164 - val_loss: 0.4389 - val_accuracy: 0.7968\n",
      "Epoch 46/100\n",
      "313/313 [==============================] - 5s 15ms/step - loss: 0.4121 - accuracy: 0.8144 - val_loss: 0.4388 - val_accuracy: 0.7968\n",
      "Epoch 47/100\n",
      "313/313 [==============================] - 5s 15ms/step - loss: 0.4120 - accuracy: 0.8159 - val_loss: 0.4391 - val_accuracy: 0.7964\n",
      "Epoch 48/100\n",
      "313/313 [==============================] - 5s 15ms/step - loss: 0.4114 - accuracy: 0.8168 - val_loss: 0.4386 - val_accuracy: 0.7958\n",
      "Epoch 49/100\n",
      "313/313 [==============================] - 5s 15ms/step - loss: 0.4115 - accuracy: 0.8152 - val_loss: 0.4400 - val_accuracy: 0.7962\n",
      "Epoch 50/100\n",
      "313/313 [==============================] - 5s 15ms/step - loss: 0.4113 - accuracy: 0.8162 - val_loss: 0.4390 - val_accuracy: 0.7956\n",
      "Epoch 51/100\n",
      "313/313 [==============================] - 5s 15ms/step - loss: 0.4109 - accuracy: 0.8162 - val_loss: 0.4386 - val_accuracy: 0.7940\n",
      "Epoch 52/100\n",
      "313/313 [==============================] - 5s 15ms/step - loss: 0.4106 - accuracy: 0.8157 - val_loss: 0.4374 - val_accuracy: 0.7968\n",
      "Epoch 53/100\n",
      "313/313 [==============================] - 5s 15ms/step - loss: 0.4105 - accuracy: 0.8158 - val_loss: 0.4410 - val_accuracy: 0.7960\n",
      "Epoch 54/100\n",
      "313/313 [==============================] - 5s 15ms/step - loss: 0.4100 - accuracy: 0.8157 - val_loss: 0.4371 - val_accuracy: 0.7970\n",
      "Epoch 55/100\n",
      "313/313 [==============================] - 5s 14ms/step - loss: 0.4098 - accuracy: 0.8148 - val_loss: 0.4373 - val_accuracy: 0.7962\n",
      "Epoch 56/100\n",
      "313/313 [==============================] - 4s 14ms/step - loss: 0.4097 - accuracy: 0.8149 - val_loss: 0.4375 - val_accuracy: 0.7954\n",
      "Epoch 57/100\n",
      "313/313 [==============================] - 5s 14ms/step - loss: 0.4098 - accuracy: 0.8151 - val_loss: 0.4362 - val_accuracy: 0.7980\n",
      "Epoch 58/100\n",
      "313/313 [==============================] - 5s 14ms/step - loss: 0.4097 - accuracy: 0.8170 - val_loss: 0.4363 - val_accuracy: 0.7982\n",
      "Epoch 59/100\n",
      "313/313 [==============================] - 4s 14ms/step - loss: 0.4094 - accuracy: 0.8160 - val_loss: 0.4374 - val_accuracy: 0.7978\n",
      "Epoch 60/100\n",
      "313/313 [==============================] - 4s 14ms/step - loss: 0.4091 - accuracy: 0.8168 - val_loss: 0.4377 - val_accuracy: 0.7974\n"
     ]
    }
   ],
   "source": [
    "rmsprop = keras.optimizers.RMSprop(learning_rate=1e-4)\n",
    "model4.compile(optimizer=rmsprop, loss='binary_crossentropy', metrics=['accuracy'])\n",
    "checkpoint_cb = keras.callbacks.ModelCheckpoint('best-gru-model.h5', save_best_only=True)\n",
    "early_stopping_cb = keras.callbacks.EarlyStopping(patience=3, restore_best_weights=True)\n",
    "history = model4.fit(train_seq, train_target, epochs=100, batch_size=64, validation_data=(val_seq, val_target), callbacks=[checkpoint_cb, early_stopping_cb])"
   ]
  },
  {
   "cell_type": "code",
   "execution_count": 18,
   "metadata": {},
   "outputs": [
    {
     "data": {
      "image/png": "[encoded data removed]",
      "text/plain": [
       "<Figure size 432x288 with 1 Axes>"
      ]
     },
     "metadata": {
      "needs_background": "light"
     },
     "output_type": "display_data"
    }
   ],
   "source": [
    "plt.plot(history.history['loss'])\n",
    "plt.plot(history.history['val_loss'])\n",
    "plt.xlabel(\"epoch\")\n",
    "plt.ylabel(\"loss\")\n",
    "plt.legend(['train', 'val'])\n",
    "plt.show()"
   ]
  },
  {
   "cell_type": "code",
   "execution_count": 19,
   "metadata": {},
   "outputs": [
    {
     "name": "stdout",
     "output_type": "stream",
     "text": [
      "782/782 [==============================] - 3s 4ms/step - loss: 0.4316 - accuracy: 0.7978\n"
     ]
    },
    {
     "data": {
      "text/plain": [
       "[0.4315899610519409, 0.7978000044822693]"
      ]
     },
     "execution_count": 19,
     "metadata": {},
     "output_type": "execute_result"
    }
   ],
   "source": [
    "test_seq = pad_sequences(test_input, maxlen=100)\n",
    "rnn_model = keras.models.load_model('best-2rnn-model.h5')\n",
    "rnn_model.evaluate(test_seq, test_target)"
   ]
  }
 ],
 "metadata": {
  "kernelspec": {
   "display_name": "Python 3.9.12 ('base')",
   "language": "python",
   "name": "python3"
  },
  "language_info": {
   "codemirror_mode": {
    "name": "ipython",
    "version": 3
   },
   "file_extension": ".py",
   "mimetype": "text/x-python",
   "name": "python",
   "nbconvert_exporter": "python",
   "pygments_lexer": "ipython3",
   "version": "3.9.12"
  },
  "orig_nbformat": 4,
  "vscode": {
   "interpreter": {
    "hash": "63c39c0d62e7a5e01faa64ed599e5b105dca2aad0039ecb0a725019704cb4e0d"
   }
  }
 },
 "nbformat": 4,
 "nbformat_minor": 2
}
